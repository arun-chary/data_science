{
 "cells": [
  {
   "cell_type": "code",
   "execution_count": 1,
   "id": "2f6bba95",
   "metadata": {},
   "outputs": [],
   "source": [
    "import pandas as pd"
   ]
  },
  {
   "cell_type": "code",
   "execution_count": 3,
   "id": "41722667",
   "metadata": {},
   "outputs": [
    {
     "name": "stdout",
     "output_type": "stream",
     "text": [
      "Series:\n",
      " 0    1\n",
      "1    2\n",
      "2    3\n",
      "3    4\n",
      "4    5\n",
      "dtype: int64\n"
     ]
    }
   ],
   "source": [
    "# Create a Series with a list of numbers\n",
    "series = pd.Series([1, 2, 3, 4, 5])\n",
    "\n",
    "print(\"Series:\\n\", series)\n",
    "\n"
   ]
  },
  {
   "cell_type": "code",
   "execution_count": 6,
   "id": "b0e3ed32",
   "metadata": {},
   "outputs": [
    {
     "name": "stdout",
     "output_type": "stream",
     "text": [
      "\n",
      "Series from dictionary:\n",
      " a    1\n",
      "b    2\n",
      "c    3\n",
      "dtype: int64\n"
     ]
    }
   ],
   "source": [
    "# Create a series with a dictionary\n",
    "data_dict = {'a': 1, 'b': 2, 'c': 3}\n",
    "series_dict = pd.Series(data_dict)\n",
    "print(\"\\nSeries from dictionary:\\n\", series_dict)"
   ]
  },
  {
   "cell_type": "code",
   "execution_count": 7,
   "id": "8b7fe854",
   "metadata": {},
   "outputs": [
    {
     "name": "stdout",
     "output_type": "stream",
     "text": [
      "\n",
      "Series with custom index:\n",
      " a    1\n",
      "b    3\n",
      "c    5\n",
      "d    7\n",
      "e    9\n",
      "dtype: int64\n"
     ]
    }
   ],
   "source": [
    "date = [1, 3, 5, 7, 9]\n",
    "index = ['a', 'b', 'c', 'd', 'e']\n",
    "\n",
    "series_with_index = pd.Series(date, index=index)\n",
    "print(\"\\nSeries with custom index:\\n\", series_with_index)"
   ]
  },
  {
   "cell_type": "code",
   "execution_count": 13,
   "id": "055701d1",
   "metadata": {},
   "outputs": [
    {
     "name": "stdout",
     "output_type": "stream",
     "text": [
      "\n",
      "DataFrame:\n",
      "     Name  Age       City  Salary\n",
      "0   Arun   21  Hyderabad    1000\n",
      "1  Chari   22   Banglore    2000\n",
      "2   Kamm   26    Chennai    3000\n",
      "<class 'pandas.core.frame.DataFrame'>\n"
     ]
    }
   ],
   "source": [
    "# Create a DataFrame\n",
    "data = {    \n",
    "        'Name': ['Arun', \"Chari\", \"Kamm\"],\n",
    "        'Age': [21, 22, 26], \n",
    "        'City': [\"Hyderabad\", \"Banglore\", \"Chennai\"],\n",
    "        'Salary': [1000, 2000, 3000]\n",
    "    }\n",
    "df = pd.DataFrame(data)\n",
    "print(\"\\nDataFrame:\\n\", df)\n",
    "print(type(df))"
   ]
  },
  {
   "cell_type": "code",
   "execution_count": null,
   "id": "6bcfc364",
   "metadata": {},
   "outputs": [
    {
     "data": {
      "text/plain": [
       "array([['Arun', 21, 'Hyderabad', 1000],\n",
       "       ['Chari', 22, 'Banglore', 2000],\n",
       "       ['Kamm', 26, 'Chennai', 3000]], dtype=object)"
      ]
     },
     "execution_count": 14,
     "metadata": {},
     "output_type": "execute_result"
    }
   ],
   "source": [
    "import numpy as np\n",
    "\n",
    "np.array(df)\n"
   ]
  },
  {
   "cell_type": "code",
   "execution_count": 15,
   "id": "4d200d0d",
   "metadata": {},
   "outputs": [
    {
     "name": "stdout",
     "output_type": "stream",
     "text": [
      "\n",
      "DataFrame from list of dictionaries:\n",
      "     Name  Age       City  Salary\n",
      "0   Arun   21  Hyderabad    1000\n",
      "1  Chari   22   Banglore    2000\n",
      "2   Kamm   26    Chennai    3000\n"
     ]
    }
   ],
   "source": [
    "# Create df with list of Dictionaries\n",
    "data_list = [\n",
    "    {'Name': 'Arun', 'Age': 21, 'City': 'Hyderabad', 'Salary': 1000},\n",
    "    {'Name': 'Chari', 'Age': 22, 'City': 'Banglore', 'Salary': 2000},\n",
    "    {'Name': 'Kamm', 'Age': 26, 'City': 'Chennai', 'Salary': 3000}\n",
    "]\n",
    "df_list = pd.DataFrame(data_list)\n",
    "print(\"\\nDataFrame from list of dictionaries:\\n\", df_list)"
   ]
  },
  {
   "cell_type": "code",
   "execution_count": null,
   "id": "97d51208",
   "metadata": {},
   "outputs": [],
   "source": []
  }
 ],
 "metadata": {
  "kernelspec": {
   "display_name": "Python 3",
   "language": "python",
   "name": "python3"
  },
  "language_info": {
   "codemirror_mode": {
    "name": "ipython",
    "version": 3
   },
   "file_extension": ".py",
   "mimetype": "text/x-python",
   "name": "python",
   "nbconvert_exporter": "python",
   "pygments_lexer": "ipython3",
   "version": "3.10.0"
  }
 },
 "nbformat": 4,
 "nbformat_minor": 5
}
