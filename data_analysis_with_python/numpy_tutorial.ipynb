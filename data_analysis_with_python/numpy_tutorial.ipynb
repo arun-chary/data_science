{
 "cells": [
  {
   "cell_type": "code",
   "execution_count": 4,
   "id": "6cf6d3ac",
   "metadata": {},
   "outputs": [
    {
     "name": "stdout",
     "output_type": "stream",
     "text": [
      "Sum of arrays: [5 7 9]\n",
      "Product of arrays: [ 4 10 18]\n",
      "Dot product of arrays: 32\n",
      "<class 'numpy.ndarray'>\n",
      "Shape of arr1: (3,)\n",
      "Shape of arr2: (3,)\n",
      "Are arr1 and arr2 equal? False\n",
      "Concatenated arrays: [1 2 3 4 5 6]\n",
      "Mean of arr1: 2.0\n",
      "Standard deviation of arr2: 0.816496580927726\n"
     ]
    }
   ],
   "source": [
    "import numpy as np\n",
    "\n",
    "arr1 = np.array([1, 2, 3])\n",
    "arr2 = np.array([4, 5, 6])\n",
    "\n",
    "print(\"Sum of arrays:\", arr1 + arr2)\n",
    "print(\"Product of arrays:\", arr1 * arr2)\n",
    "print(\"Dot product of arrays:\", np.dot(arr1, arr2))\n",
    "print(type(arr1))\n",
    "print(\"Shape of arr1:\", arr1.shape)\n",
    "print(\"Shape of arr2:\", arr2.shape)\n",
    "print(\"Are arr1 and arr2 equal?\", np.array_equal(arr1, arr2))\n",
    "print(\"Concatenated arrays:\", np.concatenate((arr1, arr2)))\n",
    "print(\"Mean of arr1:\", np.mean(arr1))\n",
    "print(\"Standard deviation of arr2:\", np.std(arr2))"
   ]
  },
  {
   "cell_type": "code",
   "execution_count": 6,
   "id": "4d46bb23",
   "metadata": {},
   "outputs": [
    {
     "name": "stdout",
     "output_type": "stream",
     "text": [
      "shape of arr3:  (2, 3)\n",
      "Transpose of arr3:\n",
      " [[1 4]\n",
      " [2 5]\n",
      " [3 6]]\n",
      "Sum of arr3 along axis 0: [5 7 9]\n",
      "Sum of arr3 along axis 1: [ 6 15]\n",
      "Maximum value in arr1: 3\n",
      "Minimum value in arr2: 4\n",
      "Unique elements in arr1: [1 2 3]\n",
      "Index of maximum value in arr1: 2\n",
      "Index of minimum value in arr2: 0\n",
      "Flattened arr3: [1 2 3 4 5 6]\n",
      "Reshaped arr1 to (3, 1):\n",
      " [[1]\n",
      " [2]\n",
      " [3]]\n",
      "Element-wise square of arr1: [1 4 9]\n",
      "Element-wise square root of arr2: [2.         2.23606798 2.44948974]\n",
      "Logical AND of arr1 and arr2: [False  True False]\n",
      "Logical OR of arr1 and arr2: [ True False  True]\n",
      "Logical NOT of arr1: [ True  True False]\n"
     ]
    }
   ],
   "source": [
    "arr3 = np.array([[1,2,3], [4,5,6]])\n",
    "print(\"shape of arr3: \", arr3.shape)\n",
    "print(\"Transpose of arr3:\\n\", arr3.T)\n",
    "print(\"Sum of arr3 along axis 0:\", np.sum(arr3, axis=0))\n",
    "print(\"Sum of arr3 along axis 1:\", np.sum(arr3, axis=1))\n",
    "print(\"Maximum value in arr1:\", np.max(arr1))\n",
    "print(\"Minimum value in arr2:\", np.min(arr2))\n",
    "print(\"Unique elements in arr1:\", np.unique(arr1))\n",
    "print(\"Index of maximum value in arr1:\", np.argmax(arr1))\n",
    "print(\"Index of minimum value in arr2:\", np.argmin(arr2))\n",
    "print(\"Flattened arr3:\", arr3.flatten())\n",
    "print(\"Reshaped arr1 to (3, 1):\\n\", arr1.reshape((3, 1)))\n",
    "print(\"Element-wise square of arr1:\", np.square(arr1))\n",
    "print(\"Element-wise square root of arr2:\", np.sqrt(arr2))\n",
    "print(\"Logical AND of arr1 and arr2:\", np.logical_and(arr1 > 1, arr2 < 6))\n",
    "print(\"Logical OR of arr1 and arr2:\", np.logical_or(arr1 < 2, arr2 > 5))\n",
    "print(\"Logical NOT of arr1:\", np.logical_not(arr1 > 2))\n"
   ]
  },
  {
   "cell_type": "code",
   "execution_count": 8,
   "id": "5227f1ff",
   "metadata": {},
   "outputs": [
    {
     "name": "stdout",
     "output_type": "stream",
     "text": [
      "Random array:\n",
      " [[0.92630088 0.65107703 0.91495968]\n",
      " [0.85003858 0.44945067 0.09541012]\n",
      " [0.37081825 0.66884125 0.66592236]]\n",
      "Random number between 0 and 1: 0.5912977877077271\n",
      "Random integer between 0 and 10: 5\n",
      "Random sample from arr1: 3\n",
      "Random sample from arr2 with replacement: [6 4 6 4 6]\n",
      "Random sample from arr2 without replacement: [6 4 5]\n",
      "Random permutation of arr1: [2 3 1]\n",
      "Random seed set to 42\n",
      "Random number with seed 42: 0.3745401188473625\n",
      "Random integer with seed 42: 7\n",
      "Random sample from arr1 with seed 42: 1\n",
      "Random sample from arr2 with replacement and seed 42: [4 6 5 6 6]\n",
      "Random sample from arr2 without replacement and seed 42: [5 4 6]\n",
      "Random permutation of arr1 with seed 42: [3 2 1]\n",
      "Random array with normal distribution:\n",
      " [[ 0.39257975 -0.92918467  0.07983181]\n",
      " [-0.1595165   0.02222183 -0.42779291]\n",
      " [-0.53181741 -0.1174755   0.2220789 ]]\n",
      "Random array with uniform distribution:\n",
      " [[0.38246199 0.98323089 0.46676289]\n",
      " [0.85994041 0.68030754 0.45049925]\n",
      " [0.01326496 0.94220176 0.56328822]]\n",
      "Random array with integers between 1 and 10:\n",
      " [[9 5 2]\n",
      " [4 7 8]\n",
      " [3 1 4]]\n",
      "Random choice from arr1 with probabilities [0.1, 0.2, 0.7]: 2\n",
      "Random choice from arr2 with probabilities [0.5, 0.3, 0.2]: 5\n",
      "Random sample from arr1 with size 2: [2 2]\n",
      "Random sample from arr2 with size 3: [5 5 5]\n",
      "Random sample from arr1 with replacement and size 4: [1 3 2 2]\n",
      "Random sample from arr2 without replacement and size 2: [4 6]\n",
      "Random permutation of arr1 with seed 42:\n",
      " [1 3 2]\n",
      "Random permutation of arr2 with seed 42:\n",
      " [6 4 5]\n",
      "Random array with integers between 1 and 100:\n",
      " [[48 15 72]\n",
      " [78 87 62]\n",
      " [40 85 80]]\n",
      "Random array with normal distribution (mean=0, std=1):\n",
      " [[-0.7679765   0.26348604  1.64177112]\n",
      " [ 0.4608163   0.08592347 -1.50995728]\n",
      " [ 0.72150246 -0.84341992 -0.51332541]]\n",
      "Random array with uniform distribution (low=0, high=10):\n",
      " [[0.15636407 4.23401481 3.94881518]\n",
      " [2.93488175 0.14079823 1.98842404]\n",
      " [7.11341953 7.90175541 6.05959975]]\n",
      "Random choice from arr2 with size 3 and probabilities [0.2, 0.3, 0.5]: [6 6 6]\n",
      "Random sample from arr1 with size 3 and replacement: [1 2 1]\n",
      "Random sample from arr2 with size 2 and without replacement: [5 4]\n",
      "Random permutation of arr1 with seed 42:\n",
      " [1 3 2]\n",
      "Random permutation of arr2 with seed 42:\n",
      " [5 6 4]\n",
      "Random array with integers between 10 and 50:\n",
      " [[49 31 36]\n",
      " [44 10 44]\n",
      " [46 23 12]]\n",
      "Random array with normal distribution (mean=5, std=2):\n",
      " [[ 5.72279121  8.07607313  4.92834792]\n",
      " [ 8.12928731 -0.23949021  6.64380501]\n",
      " [ 5.17409414  4.4019853   5.18352155]]\n",
      "Random array with uniform distribution (low=1, high=100):\n",
      " [[90.84908092 25.67993069 41.62790938]\n",
      " [75.79956272 23.65101838  8.62101107]\n",
      " [29.68539384 16.96090744 93.04006758]]\n",
      "Random choice from arr1 with size 3 and probabilities [0.2, 0.3, 0.5]: [3 3 3]\n",
      "Random choice from arr2 with size 2 and probabilities [0.1, 0.4, 0.5]: [6 5]\n",
      "Random sample from arr1 with size 4 and replacement: [2 2 3 2]\n"
     ]
    }
   ],
   "source": [
    "# random number generation\n",
    "random_arr = np.random.rand(3, 3)\n",
    "print(\"Random array:\\n\", random_arr)\n",
    "print(\"Random number between 0 and 1:\", np.random.rand())\n",
    "print(\"Random integer between 0 and 10:\", np.random.randint(0, 10))\n",
    "print(\"Random sample from arr1:\", np.random.choice(arr1))\n",
    "print(\"Random sample from arr2 with replacement:\", np.random.choice(arr2, size=5, replace=True))\n",
    "print(\"Random sample from arr2 without replacement:\", np.random.choice(arr2, size=3, replace=False))\n",
    "print(\"Random permutation of arr1:\", np.random.permutation(arr1))\n",
    "print(\"Random seed set to 42\")\n",
    "np.random.seed(42)\n",
    "print(\"Random number with seed 42:\", np.random.rand())\n",
    "print(\"Random integer with seed 42:\", np.random.randint(0, 10))\n",
    "print(\"Random sample from arr1 with seed 42:\", np.random.choice(arr1))\n",
    "print(\"Random sample from arr2 with replacement and seed 42:\", np.random.choice(arr2, size=5, replace=True))\n",
    "print(\"Random sample from arr2 without replacement and seed 42:\", np.random.choice(arr2, size=3, replace=False))\n",
    "print(\"Random permutation of arr1 with seed 42:\", np.random.permutation(arr1))\n",
    "print(\"Random array with normal distribution:\\n\", np.random.randn(3, 3))\n",
    "print(\"Random array with uniform distribution:\\n\", np.random.uniform(0, 1, (3, 3)))\n",
    "print(\"Random array with integers between 1 and 10:\\n\", np.random.randint(1, 10, (3, 3)))\n",
    "print(\"Random choice from arr1 with probabilities [0.1, 0.2, 0.7]:\", np.random.choice(arr1, p=[0.1, 0.2, 0.7]))\n",
    "print(\"Random choice from arr2 with probabilities [0.5, 0.3, 0.2]:\", np.random.choice(arr2, p=[0.5, 0.3, 0.2]))\n",
    "print(\"Random sample from arr1 with size 2:\", np.random.choice(arr1, size=2))\n",
    "print(\"Random sample from arr2 with size 3:\", np.random.choice(arr2, size=3))\n",
    "print(\"Random sample from arr1 with replacement and size 4:\", np.random.choice(arr1, size=4, replace=True))\n",
    "print(\"Random sample from arr2 without replacement and size 2:\", np.random.choice(arr2, size=2, replace=False))\n",
    "print(\"Random permutation of arr1 with seed 42:\\n\", np.random.permutation(arr1))\n",
    "print(\"Random permutation of arr2 with seed 42:\\n\", np.random.permutation(arr2))\n",
    "print(\"Random array with integers between 1 and 100:\\n\", np.random.randint(1, 100, (3, 3)))\n",
    "print(\"Random array with normal distribution (mean=0, std=1):\\n\", np.random.normal(0, 1, (3, 3)))\n",
    "print(\"Random array with uniform distribution (low=0, high=10):\\n\", np.random.uniform(0, 10, (3, 3)))\n",
    "# print(\"Random choice from arr1 with size 2 and probabilities [0.5, 0.5]:\", np.random.choice(arr1, size=2, p=[0.5, 0.5]))\n",
    "print(\"Random choice from arr2 with size 3 and probabilities [0.2, 0.3, 0.5]:\", np.random.choice(arr2, size=3, p=[0.2, 0.3, 0.5]))\n",
    "print(\"Random sample from arr1 with size 3 and replacement:\", np.random.choice(arr1, size=3, replace=True))\n",
    "print(\"Random sample from arr2 with size 2 and without replacement:\", np.random.choice(arr2, size=2, replace=False))\n",
    "print(\"Random permutation of arr1 with seed 42:\\n\", np.random.permutation(arr1))\n",
    "print(\"Random permutation of arr2 with seed 42:\\n\", np.random.permutation(arr2))\n",
    "print(\"Random array with integers between 10 and 50:\\n\", np.random.randint(10, 50, (3, 3)))\n",
    "print(\"Random array with normal distribution (mean=5, std=2):\\n\", np.random.normal(5, 2, (3, 3)))\n",
    "print(\"Random array with uniform distribution (low=1, high=100):\\n\", np.random.uniform(1, 100, (3, 3)))\n",
    "print(\"Random choice from arr1 with size 3 and probabilities [0.2, 0.3, 0.5]:\", np.random.choice(arr1, size=3, p=[0.2, 0.3, 0.5]))\n",
    "print(\"Random choice from arr2 with size 2 and probabilities [0.1, 0.4, 0.5]:\", np.random.choice(arr2, size=2, p=[0.1, 0.4, 0.5]))\n",
    "print(\"Random sample from arr1 with size 4 and replacement:\", np.random.choice(arr1, size=4, replace=True))"
   ]
  },
  {
   "cell_type": "code",
   "execution_count": 44,
   "id": "33d8d419",
   "metadata": {},
   "outputs": [
    {
     "data": {
      "text/plain": [
       "array([0. , 0.2, 0.4, 0.6, 0.8, 1. ])"
      ]
     },
     "execution_count": 44,
     "metadata": {},
     "output_type": "execute_result"
    }
   ],
   "source": [
    "np.arange(10)  # Example of using np.arange\n",
    "np.linspace(0, 1, 6)"
   ]
  },
  {
   "cell_type": "code",
   "execution_count": 37,
   "id": "d0646ff5",
   "metadata": {},
   "outputs": [
    {
     "data": {
      "text/plain": [
       "array([[ 0,  1,  2,  3,  4,  5],\n",
       "       [ 6,  7,  8,  9, 10, 11],\n",
       "       [12, 13, 14, 15, 16, 17],\n",
       "       [18, 19, 20, 21, 22, 23]])"
      ]
     },
     "execution_count": 37,
     "metadata": {},
     "output_type": "execute_result"
    }
   ],
   "source": [
    "np.arange(24).reshape(4, 6) # Example of using np.arange with reshape"
   ]
  },
  {
   "cell_type": "code",
   "execution_count": 46,
   "id": "6e7b252b",
   "metadata": {},
   "outputs": [
    {
     "name": "stdout",
     "output_type": "stream",
     "text": [
      "Sum of arrays: [5 7 9]\n",
      "Difference of arrays: [-3 -3 -3]\n",
      "Product of arrays: [ 4 10 18]\n",
      "Dot product of arrays: 32\n"
     ]
    }
   ],
   "source": [
    "### Numpy Vectorized Operations\n",
    "arr1 = np.array([1, 2, 3])\n",
    "arr2 = np.array([4, 5, 6])\n",
    "print(\"Sum of arrays:\", arr1 + arr2)\n",
    "print(\"Difference of arrays:\", arr1 - arr2)\n",
    "print(\"Product of arrays:\", arr1 * arr2)\n",
    "print(\"Dot product of arrays:\", np.dot(arr1, arr2))\n"
   ]
  },
  {
   "cell_type": "code",
   "execution_count": 47,
   "id": "0779fb2f",
   "metadata": {},
   "outputs": [
    {
     "name": "stdout",
     "output_type": "stream",
     "text": [
      "Type of arr1: <class 'numpy.ndarray'>\n",
      "Shape of arr1: (3,)\n",
      "Shape of arr2: (3,)\n",
      "Are arr1 and arr2 equal? False\n",
      "Concatenated arrays: [1 2 3 4 5 6]\n",
      "Mean of arr1: 2.0\n",
      "Standard deviation of arr2: 0.816496580927726\n",
      "Shape of arr3: (2, 3)\n",
      "Transpose of arr3:\n",
      " [[1 4]\n",
      " [2 5]\n",
      " [3 6]]\n",
      "Number of dimensions of arr3: 2\n",
      "Item size of arr3: 8\n",
      "Total number of elements in arr3: 6\n"
     ]
    }
   ],
   "source": [
    "# Attributes of numpy arrays\n",
    "print(\"Type of arr1:\", type(arr1))\n",
    "print(\"Shape of arr1:\", arr1.shape)\n",
    "print(\"Shape of arr2:\", arr2.shape)\n",
    "print(\"Are arr1 and arr2 equal?\", np.array_equal(arr1, arr2))\n",
    "print(\"Concatenated arrays:\", np.concatenate((arr1, arr2)))\n",
    "print(\"Mean of arr1:\", np.mean(arr1))\n",
    "print(\"Standard deviation of arr2:\", np.std(arr2))\n",
    "# Example of using np.arange with reshape\n",
    "arr3 = np.array([[1, 2, 3], [4, 5, 6]])\n",
    "print(\"Shape of arr3:\", arr3.shape)\n",
    "arr3_transpose = arr3.T\n",
    "print(\"Transpose of arr3:\\n\", arr3_transpose)\n",
    "dimen = arr3.ndim\n",
    "print(\"Number of dimensions of arr3:\", dimen)\n",
    "\n",
    "item_size = arr3.itemsize\n",
    "print(\"Item size of arr3:\", item_size)\n",
    "size = arr3.size\n",
    "print(\"Total number of elements in arr3:\", size)\n"
   ]
  },
  {
   "cell_type": "code",
   "execution_count": 48,
   "id": "776ec619",
   "metadata": {},
   "outputs": [
    {
     "name": "stdout",
     "output_type": "stream",
     "text": [
      "Sum of arrays: [5 7 9]\n",
      "Difference of arrays: [-3 -3 -3]\n",
      "Product of arrays: [ 4 10 18]\n",
      "Dot product of arrays: 32\n",
      "Element-wise square of arr4: [1 4 9]\n",
      "Division of arr5 by arr4: [4.  2.5 2. ]\n",
      "Element-wise square root of arr5: [2.         2.23606798 2.44948974]\n"
     ]
    }
   ],
   "source": [
    "# Numpy Vectorized Operations\n",
    "arr4 = np.array([1, 2, 3])\n",
    "arr5 = np.array([4, 5, 6])\n",
    "print(\"Sum of arrays:\", arr4 + arr5)\n",
    "print(\"Difference of arrays:\", arr4 - arr5)\n",
    "print(\"Product of arrays:\", arr4 * arr5)\n",
    "print(\"Dot product of arrays:\", np.dot(arr4, arr5))\n",
    "print(\"Element-wise square of arr4:\", np.square(arr4))\n",
    "print(\"Division of arr5 by arr4:\", arr5 / arr4)\n",
    "print(\"Element-wise square root of arr5:\", np.sqrt(arr5))\n",
    "\n",
    "# Numpy Array Operations\n",
    "# print(\"Logical AND of arr4 and arr5:\", np.logical_and(arr4 > 1, arr5 < 6))\n",
    "# print(\"Logical OR of arr4 and arr5:\", np.logical_or(arr4 < 2, arr5 > 5))\n",
    "# print(\"Logical NOT of arr4:\", np.logical_not(arr4 > 2))"
   ]
  },
  {
   "cell_type": "code",
   "execution_count": 50,
   "id": "a83a5f5b",
   "metadata": {},
   "outputs": [
    {
     "name": "stdout",
     "output_type": "stream",
     "text": [
      "Logical AND of arr4 and arr5: [False  True False]\n",
      "Logical OR of arr4 and arr5: [ True  True  True]\n",
      "Logical NOT of arr4: [ True  True False]\n"
     ]
    }
   ],
   "source": [
    "# Numpy array operations\n",
    "print(\"Logical AND of arr4 and arr5:\", np.logical_and(arr4 > 1, arr5 < 6))\n",
    "print(\"Logical OR of arr4 and arr5:\", np.logical_or(arr1 < 4, arr5 > 5))\n",
    "print(\"Logical NOT of arr4:\", np.logical_not(arr4 > 2))\n",
    "\n"
   ]
  },
  {
   "cell_type": "code",
   "execution_count": 51,
   "id": "36dabbc1",
   "metadata": {},
   "outputs": [
    {
     "name": "stdout",
     "output_type": "stream",
     "text": [
      "Element-wise addition of arr6 and arr7: [5 7 9]\n",
      "Element-wise subtraction of arr6 and arr7: [-3 -3 -3]\n",
      "Element-wise multiplication of arr6 and arr7: [ 4 10 18]\n",
      "Element-wise division of arr6 and arr7: [0.25 0.4  0.5 ]\n",
      "Element-wise power of arr6 raised to arr7: [  1  32 729]\n",
      "Element-wise square root of arr7: [2.         2.23606798 2.44948974]\n",
      "Element-wise logarithm of arr7: [1.38629436 1.60943791 1.79175947]\n",
      "Element-wise exponential of arr6: [ 2.71828183  7.3890561  20.08553692]\n",
      "Element-wise absolute value of arr6: [1 2 3]\n",
      "Element-wise floor of arr6: [1 2 3]\n",
      "Element-wise ceiling of arr6: [1 2 3]\n",
      "Element-wise rounding of arr6: [1 2 3]\n",
      "Element-wise sine of arr6: [0.84147098 0.90929743 0.14112001]\n",
      "Element-wise cosine of arr6: [ 0.54030231 -0.41614684 -0.9899925 ]\n",
      "Element-wise tangent of arr6: [ 1.55740772 -2.18503986 -0.14254654]\n",
      "Element-wise hyperbolic sine of arr6: [ 1.17520119  3.62686041 10.01787493]\n",
      "Element-wise hyperbolic cosine of arr6: [ 1.54308063  3.76219569 10.067662  ]\n",
      "Element-wise hyperbolic tangent of arr6: [0.76159416 0.96402758 0.99505475]\n"
     ]
    }
   ],
   "source": [
    "# Numpy Universal Functions\n",
    "arr6 = np.array([1, 2, 3])\n",
    "arr7 = np.array([4, 5, 6])\n",
    "\n",
    "print(\"Element-wise addition of arr6 and arr7:\", np.add(arr6, arr7))\n",
    "print(\"Element-wise subtraction of arr6 and arr7:\", np.subtract(arr6, arr7))\n",
    "print(\"Element-wise multiplication of arr6 and arr7:\", np.multiply(arr6, arr7))\n",
    "print(\"Element-wise division of arr6 and arr7:\", np.divide(arr6, arr7))\n",
    "\n",
    "print(\"Element-wise power of arr6 raised to arr7:\", np.power(arr6, arr7))\n",
    "print(\"Element-wise square root of arr7:\", np.sqrt(arr7))\n",
    "print(\"Element-wise logarithm of arr7:\", np.log(arr7))\n",
    "print(\"Element-wise exponential of arr6:\", np.exp(arr6))\n",
    "\n",
    "print(\"Element-wise absolute value of arr6:\", np.abs(arr6))\n",
    "print(\"Element-wise floor of arr6:\", np.floor(arr6))\n",
    "print(\"Element-wise ceiling of arr6:\", np.ceil(arr6))\n",
    "print(\"Element-wise rounding of arr6:\", np.round(arr6))\n",
    "\n",
    "print(\"Element-wise sine of arr6:\", np.sin(arr6))\n",
    "print(\"Element-wise cosine of arr6:\", np.cos(arr6))\n",
    "print(\"Element-wise tangent of arr6:\", np.tan(arr6))\n",
    "\n",
    "\n",
    "print(\"Element-wise hyperbolic sine of arr6:\", np.sinh(arr6))\n",
    "print(\"Element-wise hyperbolic cosine of arr6:\", np.cosh(arr6))\n",
    "print(\"Element-wise hyperbolic tangent of arr6:\", np.tanh(arr6))\n",
    "\n"
   ]
  },
  {
   "cell_type": "code",
   "execution_count": 53,
   "id": "eb0b8d4e",
   "metadata": {},
   "outputs": [
    {
     "name": "stdout",
     "output_type": "stream",
     "text": [
      "Mean of arr8: 3.0\n",
      "Standard deviation of arr8: 1.4142135623730951\n",
      "Normalized arr8: [-1.41421356 -0.70710678  0.          0.70710678  1.41421356]\n"
     ]
    }
   ],
   "source": [
    "# Normalization and Standardization\n",
    "arr8 = np.array([1, 2, 3, 4, 5])\n",
    "mean = np.mean(arr8)\n",
    "std_dev = np.std(arr8)\n",
    "print(\"Mean of arr8:\", mean)\n",
    "print(\"Standard deviation of arr8:\", std_dev)\n",
    "\n",
    "normalized_arr8 = (arr8 - mean) / std_dev\n",
    "print(\"Normalized arr8:\", normalized_arr8)"
   ]
  },
  {
   "cell_type": "code",
   "execution_count": 54,
   "id": "6ae1c222",
   "metadata": {},
   "outputs": [
    {
     "name": "stdout",
     "output_type": "stream",
     "text": [
      "Scaled arr8 to range [0, 1]: [0.   0.25 0.5  0.75 1.  ]\n"
     ]
    }
   ],
   "source": [
    "# One more way to normalize arr8 is to scale it to a range of [0, 1]\n",
    "arr8_min = np.min(arr8)\n",
    "arr8_max = np.max(arr8)\n",
    "scaled_arr8 = (arr8 - arr8_min) / (arr8_max - arr8_min)\n",
    "print(\"Scaled arr8 to range [0, 1]:\", scaled_arr8)\n",
    "\n",
    "# arr = np.array([1, 2, 3, 4, 5])\n",
    "# # Min-Max Normalization\n",
    "# min_max_norm = (arr - arr.min()) / (arr.max() - arr.min())\n",
    "# # Z-score Normalization\n",
    "# z_score_norm = (arr - arr.mean()) / arr.std()"
   ]
  },
  {
   "cell_type": "code",
   "execution_count": 55,
   "id": "e19f6b3c",
   "metadata": {},
   "outputs": [
    {
     "name": "stdout",
     "output_type": "stream",
     "text": [
      "Original array:\n",
      " [[1 2 3]\n",
      " [4 5 6]\n",
      " [7 8 9]]\n"
     ]
    }
   ],
   "source": [
    "# Indexing and Slicing\n",
    "arr9 = np.array([[1, 2, 3], [4, 5, 6], [7, 8, 9]])\n",
    "print(\"Original array:\\n\", arr9)"
   ]
  },
  {
   "cell_type": "code",
   "execution_count": 56,
   "id": "bfe6e252",
   "metadata": {},
   "outputs": [
    {
     "name": "stdout",
     "output_type": "stream",
     "text": [
      "Sliced array:\n",
      " [[5 6]\n",
      " [8 9]]\n"
     ]
    }
   ],
   "source": [
    "arr9_slice = arr9[1:, 1:]  # Slicing to get a sub-array\n",
    "print(\"Sliced array:\\n\", arr9_slice)"
   ]
  },
  {
   "cell_type": "code",
   "execution_count": 57,
   "id": "94cc2a6a",
   "metadata": {},
   "outputs": [
    {
     "name": "stdout",
     "output_type": "stream",
     "text": [
      "Element at (0, 1): 2\n"
     ]
    }
   ],
   "source": [
    "Indexed_value = arr9[0, 1]  # Accessing a specific element\n",
    "print(\"Element at (0, 1):\", Indexed_value)"
   ]
  },
  {
   "cell_type": "code",
   "execution_count": 59,
   "id": "a312c337",
   "metadata": {},
   "outputs": [
    {
     "data": {
      "text/plain": [
       "array([[99,  2,  3],\n",
       "       [ 4,  5,  6],\n",
       "       [ 7,  8,  9]])"
      ]
     },
     "execution_count": 59,
     "metadata": {},
     "output_type": "execute_result"
    }
   ],
   "source": [
    "arr9[0,0] = 99\n",
    "arr9"
   ]
  },
  {
   "cell_type": "code",
   "execution_count": 60,
   "id": "96a3a50a",
   "metadata": {},
   "outputs": [
    {
     "name": "stdout",
     "output_type": "stream",
     "text": [
      "Random array:\n",
      " [[1.22087955e-01 3.56297838e-01 9.06828442e-01]\n",
      " [2.72132249e-01 6.47690121e-01 5.20376995e-04]\n",
      " [3.52568856e-01 3.04781258e-01 1.64655853e-01]]\n"
     ]
    }
   ],
   "source": [
    "# Random Number Generation\n",
    "random_arr = np.random.rand(3, 3)\n",
    "print(\"Random array:\\n\", random_arr)"
   ]
  },
  {
   "cell_type": "code",
   "execution_count": 63,
   "id": "17a0ebe3",
   "metadata": {},
   "outputs": [
    {
     "name": "stdout",
     "output_type": "stream",
     "text": [
      "Concatenated array along axis 0:\n",
      " [[1 2]\n",
      " [3 4]\n",
      " [5 6]\n",
      " [7 8]]\n",
      "Concatenated array along axis 1:\n",
      " [[1 2 5 6]\n",
      " [3 4 7 8]]\n"
     ]
    }
   ],
   "source": [
    "#concatenation or stacking\n",
    "arr10 = np.array([[1, 2], [3, 4]])\n",
    "arr11 = np.array([[5, 6], [7, 8]])\n",
    "concatenated_arr_axis0 = np.concatenate((arr10, arr11), axis=0)\n",
    "concatenated_arr_axis1 = np.concatenate((arr10, arr11), axis=1)\n",
    "print(\"Concatenated array along axis 0:\\n\", concatenated_arr_axis0)\n",
    "print(\"Concatenated array along axis 1:\\n\", concatenated_arr_axis1)\n"
   ]
  },
  {
   "cell_type": "code",
   "execution_count": null,
   "id": "dde2797d",
   "metadata": {},
   "outputs": [
    {
     "name": "stdout",
     "output_type": "stream",
     "text": [
      "[[11 12 13]\n",
      " [21 22 23]\n",
      " [31 32 33]]\n"
     ]
    }
   ],
   "source": [
    "# Broadcasting in NumPy is a set of rules that allows operations between arrays of different \n",
    "# shapes and sizes without explicitly copying data.\n",
    "\n",
    "# When performing operations (like addition, multiplication, etc.) on arrays with \n",
    "# different shapes, NumPy automatically \"broadcasts\" the smaller array across\n",
    "# the larger one so their shapes are compatible.\n",
    "\n",
    "a = np.array([1, 2, 3])        # Shape: (3,)\n",
    "b = np.array([[10], [20], [30]]) # Shape: (3,1)\n",
    "\n",
    "result = a + b\n",
    "print(result)\n",
    "# Output:\n",
    "# [[11 12 13]\n",
    "#  [21 22 23]\n",
    "#  [31 32 33]]\n",
    "\n",
    "# How it works:\n",
    "\n",
    "# NumPy stretches the smaller array along the missing dimensions so both arrays have the same shape.\n",
    "# No actual data is copied; it's a memory-efficient operation.\n",
    "# Summary:\n",
    "# Broadcasting makes array operations flexible and efficient, allowing you to perform calculations on arrays of different shapes."
   ]
  },
  {
   "cell_type": "code",
   "execution_count": null,
   "id": "eff3edd4",
   "metadata": {},
   "outputs": [],
   "source": []
  }
 ],
 "metadata": {
  "kernelspec": {
   "display_name": "Python 3",
   "language": "python",
   "name": "python3"
  },
  "language_info": {
   "codemirror_mode": {
    "name": "ipython",
    "version": 3
   },
   "file_extension": ".py",
   "mimetype": "text/x-python",
   "name": "python",
   "nbconvert_exporter": "python",
   "pygments_lexer": "ipython3",
   "version": "3.10.0"
  }
 },
 "nbformat": 4,
 "nbformat_minor": 5
}
